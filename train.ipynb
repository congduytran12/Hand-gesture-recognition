{
 "cells": [
  {
   "cell_type": "code",
   "execution_count": 8,
   "metadata": {},
   "outputs": [
    {
     "name": "stdout",
     "output_type": "stream",
     "text": [
      "Requirement already satisfied: tflearn in c:\\users\\duy.tc214885\\anaconda\\envs\\py310\\lib\\site-packages (0.5.0)\n",
      "Requirement already satisfied: numpy in c:\\users\\duy.tc214885\\anaconda\\envs\\py310\\lib\\site-packages (from tflearn) (1.26.4)\n",
      "Requirement already satisfied: six in c:\\users\\duy.tc214885\\anaconda\\envs\\py310\\lib\\site-packages (from tflearn) (1.16.0)\n",
      "Requirement already satisfied: Pillow in c:\\users\\duy.tc214885\\anaconda\\envs\\py310\\lib\\site-packages (from tflearn) (10.3.0)\n",
      "Requirement already satisfied: opencv-python in c:\\users\\duy.tc214885\\anaconda\\envs\\py310\\lib\\site-packages (4.9.0.80)\n",
      "Requirement already satisfied: numpy>=1.21.2 in c:\\users\\duy.tc214885\\anaconda\\envs\\py310\\lib\\site-packages (from opencv-python) (1.26.4)\n"
     ]
    },
    {
     "name": "stderr",
     "output_type": "stream",
     "text": [
      "ERROR: Could not find a version that satisfies the requirement scilit-learn (from versions: none)\n",
      "ERROR: No matching distribution found for scilit-learn\n"
     ]
    }
   ],
   "source": [
    "!pip install tflearn\n",
    "!pip install opencv-python\n",
    "!pip install scilit-learn"
   ]
  },
  {
   "cell_type": "code",
   "execution_count": 9,
   "metadata": {},
   "outputs": [],
   "source": [
    "import tensorflow as tf\n",
    "import tflearn\n",
    "from tflearn.layers.conv import conv_2d,max_pool_2d\n",
    "from tflearn.layers.core import input_data,dropout,fully_connected\n",
    "from tflearn.layers.estimator import regression\n",
    "import numpy as np\n",
    "import cv2\n",
    "from sklearn.utils import shuffle"
   ]
  },
  {
   "cell_type": "code",
   "execution_count": 10,
   "metadata": {},
   "outputs": [],
   "source": [
    "# load images from Swing\n",
    "loaded_images = []\n",
    "for i in range(0, 1000):\n",
    "    image = cv2.imread('dataset/swing_train/swing_' + str(i) + '.png')\n",
    "    gray_image = cv2.cvtColor(image, cv2.COLOR_BGR2GRAY)\n",
    "    loaded_images.append(gray_image.reshape(89, 100, 1))\n",
    "\n",
    "# load images from Palm\n",
    "for i in range(0, 1000):\n",
    "    image = cv2.imread('dataset/palm_train/palm_' + str(i) + '.png')\n",
    "    gray_image = cv2.cvtColor(image, cv2.COLOR_BGR2GRAY)\n",
    "    loaded_images.append(gray_image.reshape(89, 100, 1))\n",
    "    \n",
    "# load images from Fist\n",
    "for i in range(0, 1000):\n",
    "    image = cv2.imread('dataset/fist_train/fist_' + str(i) + '.png')\n",
    "    gray_image = cv2.cvtColor(image, cv2.COLOR_BGR2GRAY)\n",
    "    loaded_images.append(gray_image.reshape(89, 100, 1))\n"
   ]
  },
  {
   "cell_type": "code",
   "execution_count": 11,
   "metadata": {},
   "outputs": [],
   "source": [
    "# create output_vectors\n",
    "\n",
    "output_vectors = []\n",
    "for i in range(0, 1000):\n",
    "    output_vectors.append([1, 0, 0])\n",
    "\n",
    "for i in range(0, 1000):\n",
    "    output_vectors.append([0, 1, 0])\n",
    "\n",
    "for i in range(0, 1000):\n",
    "    output_vectors.append([0, 0, 1])\n"
   ]
  },
  {
   "cell_type": "code",
   "execution_count": 12,
   "metadata": {},
   "outputs": [],
   "source": [
    "test_images = []\n",
    "\n",
    "# load images for Swing\n",
    "for i in range(0, 100):\n",
    "    image = cv2.imread('dataset/swing_test/swing_' + str(i) + '.png')\n",
    "    gray_image = cv2.cvtColor(image, cv2.COLOR_BGR2GRAY)\n",
    "    test_images.append(gray_image.reshape(89, 100, 1))\n",
    "\n",
    "# load images for Palm\n",
    "for i in range(0, 100):\n",
    "    image = cv2.imread('dataset/palm_test/palm_' + str(i) + '.png')\n",
    "    gray_image = cv2.cvtColor(image, cv2.COLOR_BGR2GRAY)\n",
    "    test_images.append(gray_image.reshape(89, 100, 1))\n",
    "    \n",
    "# load images for Fist\n",
    "for i in range(0, 100):\n",
    "    image = cv2.imread('dataset/fist_test/fist_' + str(i) + '.png')\n",
    "    gray_image = cv2.cvtColor(image, cv2.COLOR_BGR2GRAY)\n",
    "    test_images.append(gray_image.reshape(89, 100, 1))\n",
    "\n",
    "test_labels = []\n",
    "\n",
    "for i in range(0, 100):\n",
    "    test_labels.append([1, 0, 0])\n",
    "    \n",
    "for i in range(0, 100):\n",
    "    test_labels.append([0, 1, 0])\n",
    "\n",
    "for i in range(0, 100):\n",
    "    test_labels.append([0, 0, 1])"
   ]
  },
  {
   "cell_type": "code",
   "execution_count": 13,
   "metadata": {},
   "outputs": [],
   "source": [
    "# define CNN model\n",
    "from tensorflow.python.framework import ops\n",
    "ops.reset_default_graph()\n",
    "convnet=input_data(shape=[None,89,100,1],name='input')\n",
    "convnet=conv_2d(convnet,32,2,activation='relu')\n",
    "convnet=max_pool_2d(convnet,2)\n",
    "convnet=conv_2d(convnet,64,2,activation='relu')\n",
    "convnet=max_pool_2d(convnet,2)\n",
    "\n",
    "convnet=conv_2d(convnet,128,2,activation='relu')\n",
    "convnet=max_pool_2d(convnet,2)\n",
    "\n",
    "convnet=conv_2d(convnet,256,2,activation='relu')\n",
    "convnet=max_pool_2d(convnet,2)\n",
    "\n",
    "convnet=conv_2d(convnet,256,2,activation='relu')\n",
    "convnet=max_pool_2d(convnet,2)\n",
    "\n",
    "convnet=conv_2d(convnet,128,2,activation='relu')\n",
    "convnet=max_pool_2d(convnet,2)\n",
    "\n",
    "convnet=conv_2d(convnet,64,2,activation='relu')\n",
    "convnet=max_pool_2d(convnet,2)\n",
    "\n",
    "convnet=fully_connected(convnet,1000,activation='relu')\n",
    "convnet=dropout(convnet,0.75)\n",
    "\n",
    "convnet=fully_connected(convnet,3,activation='softmax')\n",
    "\n",
    "convnet=regression(convnet,optimizer='adam',learning_rate=0.001,loss='categorical_crossentropy',name='regression')\n",
    "\n",
    "model=tflearn.DNN(convnet,tensorboard_verbose=0)\n"
   ]
  },
  {
   "cell_type": "code",
   "execution_count": 14,
   "metadata": {},
   "outputs": [
    {
     "name": "stdout",
     "output_type": "stream",
     "text": [
      "Training Step: 23499  | total loss: \u001b[1m\u001b[32m0.00432\u001b[0m\u001b[0m | time: 0.808s\n",
      "| Adam | epoch: 500 | loss: 0.00432 - acc: 0.9999 -- iter: 2944/3000\n",
      "Training Step: 23500  | total loss: \u001b[1m\u001b[32m0.00411\u001b[0m\u001b[0m | time: 1.841s\n",
      "| Adam | epoch: 500 | loss: 0.00411 - acc: 0.9999 | val_loss: 0.32997 - val_acc: 0.9133 -- iter: 3000/3000\n",
      "--\n",
      "INFO:tensorflow:d:\\Github\\Hand-gesture-recognition\\trained_model\\gesture_recognition_model.tfl is not in all_model_checkpoint_paths. Manually adding it.\n"
     ]
    }
   ],
   "source": [
    "# shuffle train data\n",
    "loaded_images, output_vectors = shuffle(loaded_images, output_vectors, random_state=0)\n",
    "\n",
    "# train model\n",
    "model.fit(loaded_images, output_vectors, n_epoch=500,\n",
    "           validation_set = (test_images, test_labels),\n",
    "           snapshot_step=100, show_metric=True, run_id='convnet_coursera')\n",
    "\n",
    "# save model\n",
    "model.save(\"trained_model/gesture_recognition_model.tfl\")"
   ]
  }
 ],
 "metadata": {
  "kernelspec": {
   "display_name": "Python 3",
   "language": "python",
   "name": "python3"
  },
  "language_info": {
   "codemirror_mode": {
    "name": "ipython",
    "version": 3
   },
   "file_extension": ".py",
   "mimetype": "text/x-python",
   "name": "python",
   "nbconvert_exporter": "python",
   "pygments_lexer": "ipython3",
   "version": "3.10.14"
  }
 },
 "nbformat": 4,
 "nbformat_minor": 2
}
