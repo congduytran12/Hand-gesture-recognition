{
 "cells": [
  {
   "cell_type": "code",
   "execution_count": 1,
   "metadata": {},
   "outputs": [
    {
     "name": "stdout",
     "output_type": "stream",
     "text": [
      "WARNING:tensorflow:From c:\\Users\\Admin\\AppData\\Local\\Programs\\Python\\Python312\\Lib\\site-packages\\tflearn\\__init__.py:5: The name tf.disable_v2_behavior is deprecated. Please use tf.compat.v1.disable_v2_behavior instead.\n",
      "\n",
      "WARNING:tensorflow:From c:\\Users\\Admin\\AppData\\Local\\Programs\\Python\\Python312\\Lib\\site-packages\\tensorflow\\python\\compat\\v2_compat.py:98: disable_resource_variables (from tensorflow.python.ops.resource_variables_toggle) is deprecated and will be removed in a future version.\n",
      "Instructions for updating:\n",
      "non-resource variables are not supported in the long term\n",
      "curses is not supported on this machine (please install/reinstall curses for an optimal experience)\n",
      "WARNING:tensorflow:From c:\\Users\\Admin\\AppData\\Local\\Programs\\Python\\Python312\\Lib\\site-packages\\tflearn\\helpers\\summarizer.py:9: The name tf.summary.merge is deprecated. Please use tf.compat.v1.summary.merge instead.\n",
      "\n"
     ]
    }
   ],
   "source": [
    "import tensorflow as tf\n",
    "import tflearn\n",
    "from tflearn.layers.conv import conv_2d,max_pool_2d\n",
    "from tflearn.layers.core import input_data,dropout,fully_connected\n",
    "from tflearn.layers.estimator import regression\n",
    "import numpy as np\n",
    "import cv2\n",
    "from sklearn.utils import shuffle"
   ]
  },
  {
   "cell_type": "code",
   "execution_count": 2,
   "metadata": {},
   "outputs": [],
   "source": [
    "# load images from Swing\n",
    "loaded_images = []\n",
    "for i in range(0, 1000):\n",
    "    image = cv2.imread('dataset/swing_train/swing_' + str(i) + '.png')\n",
    "    gray_image = cv2.cvtColor(image, cv2.COLOR_BGR2GRAY)\n",
    "    loaded_images.append(gray_image.reshape(89, 100, 1))\n",
    "\n",
    "# load images from Palm\n",
    "for i in range(0, 1000):\n",
    "    image = cv2.imread('dataset/palm_train/palm_' + str(i) + '.png')\n",
    "    gray_image = cv2.cvtColor(image, cv2.COLOR_BGR2GRAY)\n",
    "    loaded_images.append(gray_image.reshape(89, 100, 1))\n",
    "    \n",
    "# load images from Fist\n",
    "for i in range(0, 1000):\n",
    "    image = cv2.imread('dataset/fist_train/fist_' + str(i) + '.png')\n",
    "    gray_image = cv2.cvtColor(image, cv2.COLOR_BGR2GRAY)\n",
    "    loaded_images.append(gray_image.reshape(89, 100, 1))\n"
   ]
  },
  {
   "cell_type": "code",
   "execution_count": 3,
   "metadata": {},
   "outputs": [],
   "source": [
    "# create output_vectors\n",
    "\n",
    "output_vectors = []\n",
    "for i in range(0, 1000):\n",
    "    output_vectors.append([1, 0, 0])\n",
    "\n",
    "for i in range(0, 1000):\n",
    "    output_vectors.append([0, 1, 0])\n",
    "\n",
    "for i in range(0, 1000):\n",
    "    output_vectors.append([0, 0, 1])\n"
   ]
  },
  {
   "cell_type": "code",
   "execution_count": 7,
   "metadata": {},
   "outputs": [],
   "source": [
    "test_images = []\n",
    "\n",
    "# load images for Swing\n",
    "for i in range(0, 100):\n",
    "    image = cv2.imread('dataset/swing_test/swing_' + str(i) + '.png')\n",
    "    gray_image = cv2.cvtColor(image, cv2.COLOR_BGR2GRAY)\n",
    "    test_images.append(gray_image.reshape(89, 100, 1))\n",
    "\n",
    "# load images for Palm\n",
    "for i in range(0, 100):\n",
    "    image = cv2.imread('dataset/palm_test/palm_' + str(i) + '.png')\n",
    "    gray_image = cv2.cvtColor(image, cv2.COLOR_BGR2GRAY)\n",
    "    test_images.append(gray_image.reshape(89, 100, 1))\n",
    "    \n",
    "# load images for Fist\n",
    "for i in range(0, 100):\n",
    "    image = cv2.imread('dataset/fist_test/fist_' + str(i) + '.png')\n",
    "    gray_image = cv2.cvtColor(image, cv2.COLOR_BGR2GRAY)\n",
    "    test_images.append(gray_image.reshape(89, 100, 1))\n",
    "\n",
    "test_labels = []\n",
    "\n",
    "for i in range(0, 100):\n",
    "    test_labels.append([1, 0, 0])\n",
    "    \n",
    "for i in range(0, 100):\n",
    "    test_labels.append([0, 1, 0])\n",
    "\n",
    "for i in range(0, 100):\n",
    "    test_labels.append([0, 0, 1])"
   ]
  },
  {
   "cell_type": "code",
   "execution_count": 8,
   "metadata": {},
   "outputs": [
    {
     "name": "stdout",
     "output_type": "stream",
     "text": [
      "WARNING:tensorflow:From c:\\Users\\Admin\\AppData\\Local\\Programs\\Python\\Python312\\Lib\\site-packages\\tflearn\\initializations.py:110: calling UniformUnitScaling.__init__ (from tensorflow.python.ops.init_ops) with dtype is deprecated and will be removed in a future version.\n",
      "Instructions for updating:\n",
      "Call initializer instance with the dtype argument instead of passing it to the constructor\n",
      "WARNING:tensorflow:From c:\\Users\\Admin\\AppData\\Local\\Programs\\Python\\Python312\\Lib\\site-packages\\tensorflow\\python\\util\\deprecation.py:588: UniformUnitScaling.__init__ (from tensorflow.python.ops.init_ops) is deprecated and will be removed in a future version.\n",
      "Instructions for updating:\n",
      "Use tf.initializers.variance_scaling instead with distribution=uniform to get equivalent behavior.\n",
      "WARNING:tensorflow:From c:\\Users\\Admin\\AppData\\Local\\Programs\\Python\\Python312\\Lib\\site-packages\\tflearn\\layers\\conv.py:572: The name tf.nn.max_pool is deprecated. Please use tf.nn.max_pool2d instead.\n",
      "\n",
      "WARNING:tensorflow:From c:\\Users\\Admin\\AppData\\Local\\Programs\\Python\\Python312\\Lib\\site-packages\\tflearn\\initializations.py:164: calling TruncatedNormal.__init__ (from tensorflow.python.ops.init_ops) with dtype is deprecated and will be removed in a future version.\n",
      "Instructions for updating:\n",
      "Call initializer instance with the dtype argument instead of passing it to the constructor\n",
      "WARNING:tensorflow:From c:\\Users\\Admin\\AppData\\Local\\Programs\\Python\\Python312\\Lib\\site-packages\\tensorflow\\python\\util\\dispatch.py:1260: calling dropout (from tensorflow.python.ops.nn_ops) with keep_prob is deprecated and will be removed in a future version.\n",
      "Instructions for updating:\n",
      "Please use `rate` instead of `keep_prob`. Rate should be set to `rate = 1 - keep_prob`.\n",
      "WARNING:tensorflow:From c:\\Users\\Admin\\AppData\\Local\\Programs\\Python\\Python312\\Lib\\site-packages\\tflearn\\optimizers.py:238: The name tf.train.AdamOptimizer is deprecated. Please use tf.compat.v1.train.AdamOptimizer instead.\n",
      "\n"
     ]
    }
   ],
   "source": [
    "# define CNN model\n",
    "from tensorflow.python.framework import ops\n",
    "ops.reset_default_graph()\n",
    "convnet=input_data(shape=[None,89,100,1],name='input')\n",
    "convnet=conv_2d(convnet,32,2,activation='relu')\n",
    "convnet=max_pool_2d(convnet,2)\n",
    "convnet=conv_2d(convnet,64,2,activation='relu')\n",
    "convnet=max_pool_2d(convnet,2)\n",
    "\n",
    "convnet=conv_2d(convnet,128,2,activation='relu')\n",
    "convnet=max_pool_2d(convnet,2)\n",
    "\n",
    "convnet=conv_2d(convnet,256,2,activation='relu')\n",
    "convnet=max_pool_2d(convnet,2)\n",
    "\n",
    "convnet=conv_2d(convnet,256,2,activation='relu')\n",
    "convnet=max_pool_2d(convnet,2)\n",
    "\n",
    "convnet=conv_2d(convnet,128,2,activation='relu')\n",
    "convnet=max_pool_2d(convnet,2)\n",
    "\n",
    "convnet=conv_2d(convnet,64,2,activation='relu')\n",
    "convnet=max_pool_2d(convnet,2)\n",
    "\n",
    "convnet=fully_connected(convnet,1000,activation='relu')\n",
    "convnet=dropout(convnet,0.75)\n",
    "\n",
    "convnet=fully_connected(convnet,3,activation='softmax')\n",
    "\n",
    "convnet=regression(convnet,optimizer='adam',learning_rate=0.001,loss='categorical_crossentropy',name='regression')\n",
    "\n",
    "model=tflearn.DNN(convnet,tensorboard_verbose=0)\n"
   ]
  },
  {
   "cell_type": "code",
   "execution_count": 9,
   "metadata": {},
   "outputs": [
    {
     "name": "stdout",
     "output_type": "stream",
     "text": [
      "Training Step: 2349  | total loss: \u001b[1m\u001b[32m0.05873\u001b[0m\u001b[0m | time: 14.826s\n",
      "| Adam | epoch: 050 | loss: 0.05873 - acc: 0.9966 -- iter: 2944/3000\n",
      "Training Step: 2350  | total loss: \u001b[1m\u001b[32m0.05288\u001b[0m\u001b[0m | time: 16.174s\n",
      "| Adam | epoch: 050 | loss: 0.05288 - acc: 0.9970 | val_loss: 0.41480 - val_acc: 0.9100 -- iter: 3000/3000\n",
      "--\n",
      "INFO:tensorflow:d:\\Hand-gesture-recognition\\trained_model\\gesture_recognition_model.tfl is not in all_model_checkpoint_paths. Manually adding it.\n"
     ]
    }
   ],
   "source": [
    "# shuffle train data\n",
    "loaded_images, output_vectors = shuffle(loaded_images, output_vectors, random_state=0)\n",
    "\n",
    "# train model\n",
    "model.fit(loaded_images, output_vectors, n_epoch=50,\n",
    "           validation_set = (test_images, test_labels),\n",
    "           snapshot_step=100, show_metric=True, run_id='convnet_coursera')\n",
    "\n",
    "# save model\n",
    "model.save(\"trained_model/gesture_recognition_model.tfl\")"
   ]
  }
 ],
 "metadata": {
  "kernelspec": {
   "display_name": "Python 3",
   "language": "python",
   "name": "python3"
  },
  "language_info": {
   "codemirror_mode": {
    "name": "ipython",
    "version": 3
   },
   "file_extension": ".py",
   "mimetype": "text/x-python",
   "name": "python",
   "nbconvert_exporter": "python",
   "pygments_lexer": "ipython3",
   "version": "3.12.2"
  }
 },
 "nbformat": 4,
 "nbformat_minor": 2
}
